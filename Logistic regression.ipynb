{
 "cells": [
  {
   "cell_type": "code",
   "execution_count": 1,
   "metadata": {},
   "outputs": [],
   "source": [
    "import numpy as np #For Linear Algebraic Functions\n",
    "import pandas as pd #For Data Handling\n",
    "\n",
    "#Data Visualization libraries\n",
    "# import seaborn as sns\n",
    "# import matplotlib.pyplot as plt\n",
    "# %matplotlib inline\n",
    "\n",
    "#For Logistic Regression\n",
    "from sklearn import linear_model\n",
    "\n",
    "import warnings\n",
    "warnings.filterwarnings(\"ignore\")\n"
   ]
  },
  {
   "cell_type": "code",
   "execution_count": 2,
   "metadata": {},
   "outputs": [],
   "source": [
    "#Loading CSV Files\n",
    "\n",
    "X_train = np.genfromtxt(\"C:/Users/him97/OneDrive/Desktop/recommendation-model/xtrain2.csv\" , delimiter = \",\")\n",
    "Y_train=np.genfromtxt(\"C:/Users/him97/OneDrive/Desktop/recommendation-model/ytrain2.csv\" , delimiter = \",\")\n",
    "codes=pd.read_csv(\"C:/Users/him97/OneDrive/Desktop/recommendation-model/codes.csv\")"
   ]
  },
  {
   "cell_type": "markdown",
   "metadata": {},
   "source": [
    "### Data Visualization :-"
   ]
  },
  {
   "cell_type": "code",
   "execution_count": 3,
   "metadata": {},
   "outputs": [],
   "source": [
    "# def visualizing_y(Y_value):\n",
    "#     row_number=0\n",
    "#     for i in range(len(Y_train)):\n",
    "#         if Y_train[i]==Y_value:\n",
    "#             row_number=i\n",
    "#             break\n",
    "#     feature_values=X_train[row_number,:] \n",
    "#     label=\"Ideal Feature Values for Y= \"+str(Y_value)\n",
    "    \n",
    "#     fig=plt.figure(figsize=(55, 20), dpi=120,facecolor='w', edgecolor='w')\n",
    "#     plt.rcParams.update({'font.size': 40})\n",
    "#     plt.plot(feature_values,marker='o', color='magenta',markerfacecolor='blue', markersize=12,label=label)\n",
    "#     plt.legend()"
   ]
  },
  {
   "cell_type": "code",
   "execution_count": 4,
   "metadata": {
    "scrolled": false
   },
   "outputs": [],
   "source": [
    "# for i in range(1,7,1):\n",
    "#     visualizing_y(i)\n",
    "# plt.show()"
   ]
  },
  {
   "cell_type": "code",
   "execution_count": 5,
   "metadata": {
    "scrolled": false
   },
   "outputs": [],
   "source": [
    "# fig=plt.figure(figsize=(12, 15), dpi= 600, facecolor='w', edgecolor='k')\n",
    "# plt.rcParams.update({'font.size': 10})\n",
    "# plt.subplot(1,2,1)\n",
    "# plot_1=sns.heatmap(X_train)\n",
    "# plt.title(\"X_train Heatmap\")\n",
    "# plt.xlabel('Features')\n",
    "# plt.ylabel('Values')\n",
    "# plt.subplot(1,2,2)\n",
    "# plot_2=sns.heatmap(X_test)\n",
    "# plt.title(\"X_test Heatmap\")\n",
    "# plt.xlabel('Features')\n",
    "# plt.ylabel('Values')\n",
    "# plt.show()"
   ]
  },
  {
   "cell_type": "code",
   "execution_count": 6,
   "metadata": {},
   "outputs": [],
   "source": [
    "logreg=linear_model.LogisticRegression()\n",
    "logreg.fit(X_train,Y_train);\n",
    "# Y_predict=logreg.predict(X_test)"
   ]
  },
  {
   "cell_type": "code",
   "execution_count": 7,
   "metadata": {},
   "outputs": [],
   "source": [
    "# input_test=[]\n",
    "# for i in range(3):\n",
    "#     x=input()\n",
    "#     input_test.append(x)"
   ]
  },
  {
   "cell_type": "code",
   "execution_count": 8,
   "metadata": {},
   "outputs": [],
   "source": [
    "# print(input_test)"
   ]
  },
  {
   "cell_type": "code",
   "execution_count": 9,
   "metadata": {},
   "outputs": [],
   "source": [
    "# input_test_array=np.array(input_test)\n",
    "# input_test_array_1 = np.c_[input_test_array , np.ones(len(input_test_array))]"
   ]
  },
  {
   "cell_type": "code",
   "execution_count": 10,
   "metadata": {},
   "outputs": [],
   "source": [
    "# input_test_array_transpose=np.ndarray.transpose(input_test_array_1)"
   ]
  },
  {
   "cell_type": "code",
   "execution_count": 11,
   "metadata": {},
   "outputs": [],
   "source": [
    "# print(input_test)\n",
    "# print(input_test_array_transpose)"
   ]
  },
  {
   "cell_type": "code",
   "execution_count": 12,
   "metadata": {},
   "outputs": [],
   "source": [
    "# input_test_array_transpose = input_test_array_transpose.astype(float)\n",
    "# Y_pred=logreg.predict(input_test_array_transpose)\n",
    "# Y_pred=np.array(Y_pred)\n",
    "# Y_pred=Y_pred[0]\n",
    "# print(Y_pred)\n",
    "\n"
   ]
  },
  {
   "cell_type": "code",
   "execution_count": 13,
   "metadata": {},
   "outputs": [],
   "source": [
    "# def input_function(length):\n",
    "#     input_test=[]\n",
    "#     for i in range(length):\n",
    "#         x=input()\n",
    "#         input_test.append(x)\n",
    "\n",
    "#     input_test_array=np.array(input_test)\n",
    "#     input_test_array_1 = np.c_[input_test_array , np.ones(len(input_test_array))]\n",
    "    \n",
    "    \n",
    "#     input_test_array_transpose=np.ndarray.transpose(input_test_array_1)\n",
    "    \n",
    "#     input_test_array_transpose = input_test_array_transpose.astype(float)\n",
    "#     Y_pred=logreg.predict(input_test_array_transpose)\n",
    "#     Y_pred=np.array(Y_pred)\n",
    "#     Y_pred=Y_pred[0]\n",
    "    \n",
    "    \n",
    "#     return Y_pred;\n"
   ]
  },
  {
   "cell_type": "code",
   "execution_count": 14,
   "metadata": {
    "scrolled": true
   },
   "outputs": [],
   "source": [
    "# ans='n'\n",
    "# length=3;\n",
    "# Y_pred=input_function(length);\n",
    "# print(Y_pred)\n",
    "# ans= input(\"do you want to continue  \")\n",
    "# while ans=='y':\n",
    "#     Y_pred=input_function(length);\n",
    "    \n",
    "#     print(Y_pred)\n",
    "    \n",
    "#     ans= input(\"do you want to continue  \")"
   ]
  },
  {
   "cell_type": "code",
   "execution_count": 15,
   "metadata": {},
   "outputs": [],
   "source": [
    "# print(type(codes))"
   ]
  },
  {
   "cell_type": "code",
   "execution_count": 16,
   "metadata": {},
   "outputs": [],
   "source": [
    "# print(codes)"
   ]
  },
  {
   "cell_type": "code",
   "execution_count": 17,
   "metadata": {},
   "outputs": [],
   "source": [
    "code=codes[['code']]\n",
    "name=codes[['name']]\n",
    "code=np.array(code)\n",
    "name=np.array(name)\n",
    "# print(code)\n",
    "# print(len(codes))\n",
    "# print((name[1]))"
   ]
  },
  {
   "cell_type": "code",
   "execution_count": 18,
   "metadata": {},
   "outputs": [],
   "source": [
    "# name_of_item=input()\n",
    "# flag=0\n",
    "\n",
    "# for  i in range(len(code)):\n",
    "#     if name_of_item==name[i]:\n",
    "#         flag+=1\n",
    "#         print(i);\n",
    "#         number=i\n",
    "# if flag==0:\n",
    "#     print('not found')\n",
    "    "
   ]
  },
  {
   "cell_type": "code",
   "execution_count": 19,
   "metadata": {},
   "outputs": [],
   "source": [
    "# code_of_item=int(code[number])\n",
    "# print(code_of_item)"
   ]
  },
  {
   "cell_type": "code",
   "execution_count": 20,
   "metadata": {},
   "outputs": [],
   "source": [
    "# code_digits=[int(i) for i in str(code_of_item)]\n",
    "# print(code_digits)"
   ]
  },
  {
   "cell_type": "code",
   "execution_count": 21,
   "metadata": {},
   "outputs": [],
   "source": [
    "# for i in range(len(code_digits)):\n",
    "#     digit=code_digits[i]\n",
    "#     print(digit)"
   ]
  },
  {
   "cell_type": "code",
   "execution_count": 22,
   "metadata": {},
   "outputs": [],
   "source": [
    "def input_function(length):\n",
    "    input_test=[]\n",
    "    name_of_item=input()\n",
    "    flag=0\n",
    "\n",
    "    for  i in range(len(code)):\n",
    "        if name_of_item==name[i]:\n",
    "            flag+=1\n",
    "#             print(i);\n",
    "            number=i\n",
    "            if flag==0:\n",
    "                print('not found')\n",
    "    if flag!=0:   \n",
    "        code_of_item=int(code[number])\n",
    "#         print(code_of_item)\n",
    "\n",
    "        code_digits=[int(i) for i in str(code_of_item)]\n",
    "#         print(code_digits)\n",
    "\n",
    "\n",
    "        for i in range(length):\n",
    "            x=code_digits[i]\n",
    "            input_test.append(x)\n",
    "\n",
    "        input_test_array=np.array(input_test)\n",
    "        input_test_array_1 = np.c_[input_test_array , np.ones(len(input_test_array))]\n",
    "\n",
    "\n",
    "        input_test_array_transpose=np.ndarray.transpose(input_test_array_1)\n",
    "\n",
    "        input_test_array_transpose = input_test_array_transpose.astype(float)\n",
    "        Y_pred=logreg.predict(input_test_array_transpose)\n",
    "        Y_pred=np.array(Y_pred)\n",
    "        Y_pred=Y_pred[0]\n",
    "        return Y_pred;\n",
    "    else:\n",
    "        print('not found')"
   ]
  },
  {
   "cell_type": "code",
   "execution_count": 23,
   "metadata": {},
   "outputs": [],
   "source": [
    "def recommended_items(Y_pred):\n",
    "    path=\"C:/Users/him97/OneDrive/Desktop/recommendation-model/recommended_items/\" + str(Y_pred)+ \".csv\"\n",
    "#     print(path)\n",
    "    recommended_item_list=pd.read_csv(path)\n",
    "    return recommended_item_list"
   ]
  },
  {
   "cell_type": "code",
   "execution_count": 24,
   "metadata": {},
   "outputs": [
    {
     "name": "stdout",
     "output_type": "stream",
     "text": [
      "brinjal\n",
      "recommended items are :-\n",
      "\n",
      "    potato\n",
      "0    onion\n",
      "1   tomato\n",
      "2  cabbage\n",
      "3  pumpkin\n",
      "4  cabbage\n",
      "do you want to continue  n\n"
     ]
    }
   ],
   "source": [
    "ans='n'\n",
    "length=3;\n",
    "Y_pred=input_function(length);\n",
    "Y_pred=int(Y_pred)\n",
    "print(\"recommended items are :-\\n\")\n",
    "\n",
    "recommended_items_list=recommended_items(Y_pred)\n",
    "print(recommended_items_list)\n",
    "ans= input(\"do you want to continue  \")\n",
    "while ans=='y':\n",
    "    Y_pred=input_function(length);\n",
    "    recommended_items_list=recommended_items(Y_pred)\n",
    "    print(recommended_items_list)\n",
    "    ans= input(\"do you want to continue  \")"
   ]
  },
  {
   "cell_type": "code",
   "execution_count": null,
   "metadata": {},
   "outputs": [],
   "source": [
    "def recommended_items(Y_pred):\n",
    "    path=\"C:/Users/him97/OneDrive/Desktop/recommendation-model/recommended_items/\" + Y_pred + \".csv\"\n",
    "    print(path)\n",
    "    recommended_item_list=pd.read_csv(\"C:/Users/him97/OneDrive/Desktop/recommendation-model/recommended_items.csv\")\n",
    "    return recommended_item_list"
   ]
  },
  {
   "cell_type": "code",
   "execution_count": null,
   "metadata": {},
   "outputs": [],
   "source": []
  },
  {
   "cell_type": "code",
   "execution_count": null,
   "metadata": {},
   "outputs": [],
   "source": [
    "# ff=int(input())\n",
    "# flag=0\n",
    "\n",
    "# for  i in range(len(code)):\n",
    "#     if ff==int(code[i]):\n",
    "#         flag+=1\n",
    "#         print(i);\n",
    "#         number=i\n",
    "# if flag==0:\n",
    "#     print('not found')"
   ]
  },
  {
   "cell_type": "code",
   "execution_count": null,
   "metadata": {},
   "outputs": [],
   "source": [
    "print(number)"
   ]
  },
  {
   "cell_type": "code",
   "execution_count": null,
   "metadata": {},
   "outputs": [],
   "source": []
  },
  {
   "cell_type": "code",
   "execution_count": null,
   "metadata": {},
   "outputs": [],
   "source": []
  },
  {
   "cell_type": "code",
   "execution_count": null,
   "metadata": {},
   "outputs": [],
   "source": [
    "input_test=[]\n",
    "for i in range(3):\n",
    "    value_of_feature=float(input())\n",
    "    input_test.append(value_of_feature)\n",
    "input_test_array=np.array(input_test)\n",
    "input_test_array_1 = np.c_[input_test_array , np.ones(len(input_test_array))]\n",
    "input_test_array_transpose=np.ndarray.transpose(input_test_array_1)\n",
    "Y_pred=logreg.predict(input_test_array_transpose)\n",
    "Y_pred=np.array(Y_pred)\n",
    "Y_pred=Y_pred[0]\n",
    "print(Y_pred)\n",
    "\n",
    "\n"
   ]
  },
  {
   "cell_type": "code",
   "execution_count": null,
   "metadata": {},
   "outputs": [],
   "source": [
    "input_test=[]\n",
    "for i in range(3):\n",
    "    value_of_feature=float(input())\n",
    "    input_test.append(value_of_feature)"
   ]
  },
  {
   "cell_type": "code",
   "execution_count": null,
   "metadata": {},
   "outputs": [],
   "source": []
  },
  {
   "cell_type": "code",
   "execution_count": null,
   "metadata": {},
   "outputs": [],
   "source": [
    "input_test_array=np.array(input_test)\n",
    "input_test_array_1 = np.c_[input_test_array , np.ones(len(input_test_array))]"
   ]
  },
  {
   "cell_type": "code",
   "execution_count": null,
   "metadata": {},
   "outputs": [],
   "source": []
  },
  {
   "cell_type": "code",
   "execution_count": null,
   "metadata": {},
   "outputs": [],
   "source": []
  },
  {
   "cell_type": "code",
   "execution_count": null,
   "metadata": {},
   "outputs": [],
   "source": []
  },
  {
   "cell_type": "code",
   "execution_count": null,
   "metadata": {},
   "outputs": [],
   "source": []
  },
  {
   "cell_type": "code",
   "execution_count": null,
   "metadata": {
    "scrolled": false
   },
   "outputs": [],
   "source": [
    "# print(\"What activity is the person is doing, predicted according to X_test\\nHere:-\\n 1 is for WALKING\\n2 is for WALKING UPSTAIRS\\n3 WALKING DOWNSTAIRS\\n4 is for SITTING\\n5 is for  STANDING\\n6 is for LAYING\\n\")\n",
    "# print(Y_predict)\n",
    "# Y_predict_array=np.array(Y_predict)"
   ]
  },
  {
   "cell_type": "code",
   "execution_count": null,
   "metadata": {},
   "outputs": [],
   "source": [
    "# print(\"The value of correct activity:-\\n Here:-\\n 1 is for WALKING\\n2 is for WALKING UPSTAIRS\\n3 WALKING DOWNSTAIRS\\n4 is for SITTING\\n5 is for  STANDING\\n6 is for LAYING\\n\")\n",
    "# print(Y_test)"
   ]
  },
  {
   "cell_type": "code",
   "execution_count": null,
   "metadata": {},
   "outputs": [],
   "source": [
    "# correct_Y=0\n",
    "# len_Y_test=[]\n",
    "# for i in range(len(Y_test)):\n",
    "#     len_Y_test.append(i)\n",
    "#     if Y_predict_array[i]==Y_test[i]:\n",
    "#         correct_Y+=1\n",
    "# print(\"Total number of activities predicted corectly is \",correct_Y, \" out of \",len(Y_test))"
   ]
  },
  {
   "cell_type": "markdown",
   "metadata": {},
   "source": [
    "### Percentage of Correctly Predicted columns :-"
   ]
  },
  {
   "cell_type": "code",
   "execution_count": null,
   "metadata": {},
   "outputs": [],
   "source": [
    "per=(correct_Y/len(Y_test))*100\n",
    "print(\"Percentage of Y predicted correctly: \",per)"
   ]
  },
  {
   "cell_type": "code",
   "execution_count": null,
   "metadata": {},
   "outputs": [],
   "source": [
    "def chunks(array_name,initial_limit,final_limit):\n",
    "    m=[]\n",
    "    for i in range(len(array_name)):\n",
    "        if i>=initial_limit and i<final_limit:\n",
    "            m.append(array_name[i])\n",
    "    return m;"
   ]
  },
  {
   "cell_type": "code",
   "execution_count": null,
   "metadata": {
    "scrolled": false
   },
   "outputs": [],
   "source": [
    "def plot_graph(initial_limit,final_limit):\n",
    "    x= chunks(len_Y_test,initial_limit,final_limit)\n",
    "    y= chunks(Y_predict_array,initial_limit,final_limit)\n",
    "    z= chunks(Y_test,initial_limit,final_limit)\n",
    "    fig=plt.figure(figsize=(55, 20), dpi= 300, facecolor='w', edgecolor='w')\n",
    "    plt.rcParams.update({'font.size': 50})\n",
    "    title=\"From \"+str(initial_limit)+\" to \"+str(final_limit)\n",
    "    plt.title(title)\n",
    "    plt.xlabel('Values')\n",
    "    plt.ylabel('Activity')\n",
    "    plt.plot(x, y, marker='o',color='red',markerfacecolor='blue', label='Y Predicted Wrong')\n",
    "    plt.plot(x, z, marker='o',color='cyan',markerfacecolor='magenta', label='Actual Y')\n",
    "    plt.legend(loc='upper right')\n",
    "    plt.show()"
   ]
  },
  {
   "cell_type": "code",
   "execution_count": null,
   "metadata": {
    "scrolled": false
   },
   "outputs": [],
   "source": [
    "gap=500\n",
    "for i in range(0,3000,gap):\n",
    "    plot_graph(i,i+gap)\n",
    "    "
   ]
  },
  {
   "cell_type": "markdown",
   "metadata": {},
   "source": [
    "# Predicting the value of Y using entered values :-"
   ]
  },
  {
   "cell_type": "markdown",
   "metadata": {},
   "source": [
    "### Data Preproccesing :-"
   ]
  },
  {
   "cell_type": "code",
   "execution_count": null,
   "metadata": {},
   "outputs": [],
   "source": [
    "def score_append(i):\n",
    "    x=X_train[:,i:i+1]\n",
    "    y=Y_train\n",
    "    logreg.fit(x,y)\n",
    "    score.append(logreg.score(x,y))"
   ]
  },
  {
   "cell_type": "code",
   "execution_count": null,
   "metadata": {},
   "outputs": [],
   "source": [
    "score=[]\n",
    "for i in range(len(X_train[1,:])):\n",
    "    score_append(i)\n",
    "score_array=np.array(score)\n",
    "print(score_array.shape)"
   ]
  },
  {
   "cell_type": "markdown",
   "metadata": {},
   "source": [
    "#### Selecting Right columns :-"
   ]
  },
  {
   "cell_type": "code",
   "execution_count": null,
   "metadata": {},
   "outputs": [],
   "source": [
    "column_head=np.array(column_head)\n",
    "sum=0\n",
    "right_columns=[]\n",
    "right_columns_test=[]\n",
    "right_columns_head=[]\n",
    "for i in  range(len(score_array)):\n",
    "    if float(score_array[i])>=0.4515:\n",
    "        sum+=1\n",
    "        right_columns.append(X_train[:,i])\n",
    "        right_columns_head.append(column_head[i])\n",
    "        right_columns_test.append(X_test[:,i])\n",
    "\n",
    "print(\"Number of Column selected on the basis of score: \",sum)"
   ]
  },
  {
   "cell_type": "code",
   "execution_count": null,
   "metadata": {},
   "outputs": [],
   "source": [
    "right_columns_head_array=np.array(right_columns_head)\n",
    "right_columns_head_array=np.ndarray.transpose(right_columns_head_array)\n",
    "\n",
    "right_columns_array=np.array(right_columns)\n",
    "right_columns_array_transpose=np.ndarray.transpose(right_columns_array)\n",
    "right_columns_test_array=np.array(right_columns_test)\n",
    "right_columns_test_array_transpose=np.ndarray.transpose(right_columns_test_array)"
   ]
  },
  {
   "cell_type": "markdown",
   "metadata": {},
   "source": [
    "### Saving the right column matrix along with their column head to a csv file: \"right_columns.csv\""
   ]
  },
  {
   "cell_type": "code",
   "execution_count": null,
   "metadata": {},
   "outputs": [],
   "source": [
    "right_columns_test_array_transpose_col= np.r_[right_columns_head_array,right_columns_test_array_transpose]\n",
    "np.savetxt(\"right_columns.csv\", right_columns_test_array_transpose_col, delimiter=\",\",fmt='%s')"
   ]
  },
  {
   "cell_type": "code",
   "execution_count": null,
   "metadata": {},
   "outputs": [],
   "source": [
    "x=right_columns_array_transpose\n",
    "y=Y_train\n",
    "logreg1= linear_model.LogisticRegression(C=5)\n",
    "logreg1.fit(x,y)\n",
    "Y_pred=logreg1.predict(right_columns_test_array_transpose)"
   ]
  },
  {
   "cell_type": "markdown",
   "metadata": {},
   "source": [
    "#### The probablity of correctly predicting the value of Y using these columns :-"
   ]
  },
  {
   "cell_type": "code",
   "execution_count": null,
   "metadata": {
    "scrolled": false
   },
   "outputs": [],
   "source": [
    "logreg1.score(right_columns_test_array_transpose,Y_test)"
   ]
  },
  {
   "cell_type": "code",
   "execution_count": null,
   "metadata": {},
   "outputs": [],
   "source": [
    "def column_values_function(value):\n",
    "    column_values=[]\n",
    "    for i in range(len(Y_test)):\n",
    "        if Y_test[i]==value:\n",
    "            column_values.append(right_columns_test_array_transpose[i,:])\n",
    "    column_values=np.array(column_values)\n",
    "    return column_values "
   ]
  },
  {
   "cell_type": "code",
   "execution_count": null,
   "metadata": {},
   "outputs": [],
   "source": [
    "def ideal_values_function(value):\n",
    "    ideal_values=[]\n",
    "    column_values= column_values_function(value)\n",
    "    for i in range(len(column_values[0])):\n",
    "        y= column_values[:,i].mean()\n",
    "        ideal_values.append(y)\n",
    "    return ideal_values"
   ]
  },
  {
   "cell_type": "markdown",
   "metadata": {},
   "source": [
    "#### Giving Input :-"
   ]
  },
  {
   "cell_type": "code",
   "execution_count": null,
   "metadata": {},
   "outputs": [],
   "source": [
    "input_test=[]\n",
    "for i in range(sum):\n",
    "    print(\"Enter the value of \",right_columns_head[i],\" :-\")\n",
    "    value_of_feature=float(input())\n",
    "    input_test.append(value_of_feature)\n",
    "    "
   ]
  },
  {
   "cell_type": "code",
   "execution_count": null,
   "metadata": {},
   "outputs": [],
   "source": [
    "input_test_array=np.array(input_test)\n",
    "input_test_array_1 = np.c_[input_test_array , np.ones(len(input_test_array))]"
   ]
  },
  {
   "cell_type": "code",
   "execution_count": null,
   "metadata": {},
   "outputs": [],
   "source": [
    "input_test_array_transpose=np.ndarray.transpose(input_test_array_1)"
   ]
  },
  {
   "cell_type": "code",
   "execution_count": null,
   "metadata": {},
   "outputs": [],
   "source": [
    "Y_pred=logreg1.predict(input_test_array_transpose)\n",
    "Y_pred=np.array(Y_pred)\n",
    "Y_pred=Y_pred[0]\n",
    "if Y_pred==1:\n",
    "    activity=\"Walking\"\n",
    "elif Y_pred==2:\n",
    "    activity=\"Walking Upstairs\"\n",
    "elif Y_pred==3:\n",
    "    activity=\"Walking Downstairs\"\n",
    "elif Y_pred==4:\n",
    "    activity=\"Sitting\"\n",
    "elif Y_pred==5:\n",
    "    activity=\"Standing\"\n",
    "elif Y_pred==6:\n",
    "    activity=\"Laying\""
   ]
  },
  {
   "cell_type": "markdown",
   "metadata": {},
   "source": [
    "#### Predicted Value of Y according to Entered Values :-"
   ]
  },
  {
   "cell_type": "code",
   "execution_count": null,
   "metadata": {},
   "outputs": [],
   "source": [
    "print(\"Predicted value of Y=\",Y_pred,\" which means the person is \",activity)"
   ]
  },
  {
   "cell_type": "code",
   "execution_count": null,
   "metadata": {
    "scrolled": true
   },
   "outputs": [],
   "source": [
    "mean_list=[]\n",
    "for i in range(1,7,1):    \n",
    "    correct_feature_values= ideal_values_function(i)\n",
    "    difference=0\n",
    "    for j in range(len(right_columns)):\n",
    "        dif=abs(correct_feature_values[j]-input_test_array[j])\n",
    "        difference+=dif\n",
    "        mean=difference/len(right_columns)\n",
    "    mean_list.append(mean)       \n",
    "mean_list=np.array(mean_list)\n",
    "print(mean_list)"
   ]
  },
  {
   "cell_type": "code",
   "execution_count": null,
   "metadata": {},
   "outputs": [],
   "source": [
    "result1 = np.where(mean_list == np.amin(mean_list))\n",
    "other_predicted_value=((result1[0])+1)"
   ]
  },
  {
   "cell_type": "code",
   "execution_count": null,
   "metadata": {},
   "outputs": [],
   "source": [
    "print(\"Y can also be :\",other_predicted_value)"
   ]
  },
  {
   "cell_type": "code",
   "execution_count": null,
   "metadata": {},
   "outputs": [],
   "source": [
    "def comparision_plot(string):\n",
    "    correct_feature_values= ideal_values_function(Y_pred)\n",
    "    label=string+str(Y_pred)\n",
    "    fig=plt.figure(figsize=(55, 20), dpi=120,facecolor='w', edgecolor='w')\n",
    "    plt.rcParams.update({'font.size': 40})\n",
    "    plt.plot(correct_feature_values,marker='o', color='magenta',markerfacecolor='red', markersize=20,mec='none',label=label)\n",
    "    plt.plot(input_test_array,marker='o', color='cyan',markerfacecolor='blue', markersize=20,mec='none',label=\"Input Feature Value\")"
   ]
  },
  {
   "cell_type": "code",
   "execution_count": null,
   "metadata": {},
   "outputs": [],
   "source": [
    "if other_predicted_value==Y_pred:\n",
    "    comparision_plot(\"Ideal Feature Values for Y= \")\n",
    "    plt.legend()\n",
    "    plt.show()\n",
    "else:\n",
    "    correct_using_mean= ideal_values_function(other_predicted_value)\n",
    "    label1=\"Y can also be \"+ str(other_predicted_value)\n",
    "    comparision_plot(\"Ideal Feature Value of Y using Logistic Regression= \")\n",
    "    plt.plot(correct_using_mean,marker='o', color='green',markerfacecolor='grey', markersize=20,mec='none',label=label1)\n",
    "    plt.legend()\n",
    "    plt.show()"
   ]
  },
  {
   "cell_type": "code",
   "execution_count": null,
   "metadata": {},
   "outputs": [],
   "source": [
    "whos"
   ]
  },
  {
   "cell_type": "code",
   "execution_count": null,
   "metadata": {},
   "outputs": [],
   "source": []
  }
 ],
 "metadata": {
  "kernelspec": {
   "display_name": "Python 3",
   "language": "python",
   "name": "python3"
  },
  "language_info": {
   "codemirror_mode": {
    "name": "ipython",
    "version": 3
   },
   "file_extension": ".py",
   "mimetype": "text/x-python",
   "name": "python",
   "nbconvert_exporter": "python",
   "pygments_lexer": "ipython3",
   "version": "3.7.3"
  }
 },
 "nbformat": 4,
 "nbformat_minor": 2
}
