{
 "cells": [
  {
   "cell_type": "code",
   "execution_count": 1,
   "metadata": {},
   "outputs": [],
   "source": [
    "import numpy as np #For Linear Algebraic Functions\n",
    "import pandas as pd #For Data Handling\n",
    "\n",
    "#For Logistic Regression\n",
    "from sklearn import linear_model\n",
    "\n",
    "import warnings\n",
    "warnings.filterwarnings(\"ignore\")\n"
   ]
  },
  {
   "cell_type": "code",
   "execution_count": 2,
   "metadata": {},
   "outputs": [],
   "source": [
    "#Loading CSV Files\n",
    "\n",
    "X_train = np.genfromtxt(\"/root/recommendation-model/xtrain2.csv\" , delimiter = \",\")\n",
    "Y_train=np.genfromtxt(\"/root/recommendation-model/ytrain2.csv\" , delimiter = \",\")\n",
    "codes=pd.read_csv(\"/root/recommendation-model/codes.csv\")"
   ]
  },
  {
   "cell_type": "code",
   "execution_count": 3,
   "metadata": {},
   "outputs": [],
   "source": [
    "logreg=linear_model.LogisticRegression()\n",
    "logreg.fit(X_train,Y_train);\n",
    "# Y_predict=logreg.predict(X_test)"
   ]
  },
  {
   "cell_type": "code",
   "execution_count": 4,
   "metadata": {},
   "outputs": [],
   "source": [
    "code=codes[['code']]\n",
    "name=codes[['name']]\n",
    "code=np.array(code)\n",
    "name=np.array(name)"
   ]
  },
  {
   "cell_type": "code",
   "execution_count": 5,
   "metadata": {},
   "outputs": [],
   "source": [
    "def input_function(length):\n",
    "    input_test=[]\n",
    "    name_of_item=input()\n",
    "    flag=0\n",
    "\n",
    "    for  i in range(len(code)):\n",
    "        if name_of_item==name[i]:\n",
    "            flag+=1\n",
    "#             print(i);\n",
    "            number=i\n",
    "            if flag==0:\n",
    "                print('not found')\n",
    "    if flag!=0:   \n",
    "        code_of_item=int(code[number])\n",
    "#         print(code_of_item)\n",
    "\n",
    "        code_digits=[int(i) for i in str(code_of_item)]\n",
    "#         print(code_digits)\n",
    "\n",
    "\n",
    "        for i in range(length):\n",
    "            x=code_digits[i]\n",
    "            input_test.append(x)\n",
    "\n",
    "        input_test_array=np.array(input_test)\n",
    "        input_test_array_1 = np.c_[input_test_array , np.ones(len(input_test_array))]\n",
    "\n",
    "\n",
    "        input_test_array_transpose=np.ndarray.transpose(input_test_array_1)\n",
    "\n",
    "        input_test_array_transpose = input_test_array_transpose.astype(float)\n",
    "        Y_pred=logreg.predict(input_test_array_transpose)\n",
    "        Y_pred=np.array(Y_pred)\n",
    "        Y_pred=Y_pred[0]\n",
    "        return Y_pred;\n",
    "    else:\n",
    "        print('not found')"
   ]
  },
  {
   "cell_type": "code",
   "execution_count": 6,
   "metadata": {},
   "outputs": [],
   "source": [
    "def recommended_items(Y_pred):\n",
    "    path=\"/root/recommendation-model/recommended_items/\" + str(Y_pred)+ \".csv\"\n",
    "#     print(path)\n",
    "    recommended_item_list=pd.read_csv(path)\n",
    "    return recommended_item_list"
   ]
  },
  {
   "cell_type": "code",
   "execution_count": null,
   "metadata": {},
   "outputs": [],
   "source": [
    "ans='n'\n",
    "length=3;\n",
    "Y_pred=input_function(length);\n",
    "Y_pred=int(Y_pred)\n",
    "print(\"recommended items are :-\\n\")\n",
    "\n",
    "recommended_items_list=recommended_items(Y_pred)\n",
    "print(recommended_items_list)\n",
    "ans= input(\"do you want to continue  \")\n",
    "while ans=='y':\n",
    "    Y_pred=input_function(length);\n",
    "    recommended_items_list=recommended_items(Y_pred)\n",
    "    print(recommended_items_list)\n",
    "    ans= input(\"do you want to continue  \")"
   ]
  },
  {
   "cell_type": "code",
   "execution_count": null,
   "metadata": {},
   "outputs": [],
   "source": []
  },
  {
   "cell_type": "code",
   "execution_count": null,
   "metadata": {},
   "outputs": [],
   "source": []
  }
 ],
 "metadata": {
  "kernelspec": {
   "display_name": "Python 3",
   "language": "python",
   "name": "python3"
  },
  "language_info": {
   "codemirror_mode": {
    "name": "ipython",
    "version": 3
   },
   "file_extension": ".py",
   "mimetype": "text/x-python",
   "name": "python",
   "nbconvert_exporter": "python",
   "pygments_lexer": "ipython3",
   "version": "3.7.4"
  }
 },
 "nbformat": 4,
 "nbformat_minor": 2
}
