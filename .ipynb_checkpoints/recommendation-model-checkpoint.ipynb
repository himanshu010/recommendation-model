{
 "cells": [
  {
   "cell_type": "code",
   "execution_count": 1,
   "metadata": {},
   "outputs": [],
   "source": [
    "import numpy as np #For Linear Algebraic Functions\n",
    "import pandas as pd #For Data Handling\n",
    "\n",
    "#For Logistic Regression\n",
    "from sklearn import linear_model\n",
    "\n",
    "import warnings\n",
    "warnings.filterwarnings(\"ignore\")\n"
   ]
  },
  {
   "cell_type": "code",
   "execution_count": 2,
   "metadata": {},
   "outputs": [],
   "source": [
    "#Loading CSV Files\n",
    "\n",
    "X_train = np.genfromtxt(\"C:/Users/him97/OneDrive/Desktop/recommendation-model/xtrain2.csv\" , delimiter = \",\")\n",
    "Y_train=np.genfromtxt(\"C:/Users/him97/OneDrive/Desktop/recommendation-model/ytrain2.csv\" , delimiter = \",\")\n",
    "codes=pd.read_csv(\"C:/Users/him97/OneDrive/Desktop/recommendation-model/codes.csv\")"
   ]
  },
  {
   "cell_type": "code",
   "execution_count": 6,
   "metadata": {},
   "outputs": [],
   "source": [
    "logreg=linear_model.LogisticRegression()\n",
    "logreg.fit(X_train,Y_train);\n",
    "# Y_predict=logreg.predict(X_test)"
   ]
  }
 ],
 "metadata": {
  "kernelspec": {
   "display_name": "Python 3",
   "language": "python",
   "name": "python3"
  },
  "language_info": {
   "codemirror_mode": {
    "name": "ipython",
    "version": 3
   },
   "file_extension": ".py",
   "mimetype": "text/x-python",
   "name": "python",
   "nbconvert_exporter": "python",
   "pygments_lexer": "ipython3",
   "version": "3.7.3"
  }
 },
 "nbformat": 4,
 "nbformat_minor": 2
}
